{
 "cells": [
  {
   "cell_type": "code",
   "execution_count": 59,
   "id": "cb746bbb-a304-47d7-b100-ae91b4f37fad",
   "metadata": {},
   "outputs": [],
   "source": [
    "import pandas as pd\n",
    "import numpy as np\n",
    "import matplotlib.pyplot as plt\n",
    "import seaborn as sns"
   ]
  },
  {
   "cell_type": "code",
   "execution_count": 32,
   "id": "9077de85-084b-4b20-aa07-cf5844be643c",
   "metadata": {},
   "outputs": [],
   "source": [
    "df= pd.read_csv(\"thyroid_cancer_risk_data.csv\")"
   ]
  },
  {
   "cell_type": "code",
   "execution_count": null,
   "id": "e75ba4cc-98ca-4e09-88d4-95f88e7871d1",
   "metadata": {},
   "outputs": [],
   "source": [
    "df"
   ]
  },
  {
   "cell_type": "code",
   "execution_count": 5,
   "id": "d9cdabe9-dfc4-4cef-8e32-0e5ddec6c820",
   "metadata": {},
   "outputs": [
    {
     "data": {
      "text/plain": [
       "Index(['Patient_ID', 'Age', 'Gender', 'Country', 'Ethnicity', 'Family_History',\n",
       "       'Radiation_Exposure', 'Iodine_Deficiency', 'Smoking', 'Obesity',\n",
       "       'Diabetes', 'TSH_Level', 'T3_Level', 'T4_Level', 'Nodule_Size',\n",
       "       'Thyroid_Cancer_Risk', 'Diagnosis'],\n",
       "      dtype='object')"
      ]
     },
     "execution_count": 5,
     "metadata": {},
     "output_type": "execute_result"
    }
   ],
   "source": [
    "df.columns"
   ]
  },
  {
   "cell_type": "code",
   "execution_count": 6,
   "id": "dfbe2c5f-4ed2-4b32-9259-c3ad05098218",
   "metadata": {},
   "outputs": [
    {
     "name": "stdout",
     "output_type": "stream",
     "text": [
      "<class 'pandas.core.frame.DataFrame'>\n",
      "RangeIndex: 212691 entries, 0 to 212690\n",
      "Data columns (total 17 columns):\n",
      " #   Column               Non-Null Count   Dtype  \n",
      "---  ------               --------------   -----  \n",
      " 0   Patient_ID           212691 non-null  int64  \n",
      " 1   Age                  212691 non-null  int64  \n",
      " 2   Gender               212691 non-null  object \n",
      " 3   Country              212691 non-null  object \n",
      " 4   Ethnicity            212691 non-null  object \n",
      " 5   Family_History       212691 non-null  object \n",
      " 6   Radiation_Exposure   212691 non-null  object \n",
      " 7   Iodine_Deficiency    212691 non-null  object \n",
      " 8   Smoking              212691 non-null  object \n",
      " 9   Obesity              212691 non-null  object \n",
      " 10  Diabetes             212691 non-null  object \n",
      " 11  TSH_Level            212691 non-null  float64\n",
      " 12  T3_Level             212691 non-null  float64\n",
      " 13  T4_Level             212691 non-null  float64\n",
      " 14  Nodule_Size          212691 non-null  float64\n",
      " 15  Thyroid_Cancer_Risk  212691 non-null  object \n",
      " 16  Diagnosis            212691 non-null  object \n",
      "dtypes: float64(4), int64(2), object(11)\n",
      "memory usage: 27.6+ MB\n"
     ]
    }
   ],
   "source": [
    "df.info()"
   ]
  },
  {
   "cell_type": "code",
   "execution_count": 7,
   "id": "68308cb3-d09f-46e9-8502-939c4d114874",
   "metadata": {},
   "outputs": [
    {
     "data": {
      "text/html": [
       "<div>\n",
       "<style scoped>\n",
       "    .dataframe tbody tr th:only-of-type {\n",
       "        vertical-align: middle;\n",
       "    }\n",
       "\n",
       "    .dataframe tbody tr th {\n",
       "        vertical-align: top;\n",
       "    }\n",
       "\n",
       "    .dataframe thead th {\n",
       "        text-align: right;\n",
       "    }\n",
       "</style>\n",
       "<table border=\"1\" class=\"dataframe\">\n",
       "  <thead>\n",
       "    <tr style=\"text-align: right;\">\n",
       "      <th></th>\n",
       "      <th>Patient_ID</th>\n",
       "      <th>Age</th>\n",
       "      <th>TSH_Level</th>\n",
       "      <th>T3_Level</th>\n",
       "      <th>T4_Level</th>\n",
       "      <th>Nodule_Size</th>\n",
       "    </tr>\n",
       "  </thead>\n",
       "  <tbody>\n",
       "    <tr>\n",
       "      <th>count</th>\n",
       "      <td>212691.00000</td>\n",
       "      <td>212691.000000</td>\n",
       "      <td>212691.000000</td>\n",
       "      <td>212691.000000</td>\n",
       "      <td>212691.000000</td>\n",
       "      <td>212691.000000</td>\n",
       "    </tr>\n",
       "    <tr>\n",
       "      <th>mean</th>\n",
       "      <td>106346.00000</td>\n",
       "      <td>51.918497</td>\n",
       "      <td>5.045102</td>\n",
       "      <td>2.001727</td>\n",
       "      <td>8.246204</td>\n",
       "      <td>2.503403</td>\n",
       "    </tr>\n",
       "    <tr>\n",
       "      <th>std</th>\n",
       "      <td>61398.74739</td>\n",
       "      <td>21.632815</td>\n",
       "      <td>2.860264</td>\n",
       "      <td>0.866248</td>\n",
       "      <td>2.164188</td>\n",
       "      <td>1.444631</td>\n",
       "    </tr>\n",
       "    <tr>\n",
       "      <th>min</th>\n",
       "      <td>1.00000</td>\n",
       "      <td>15.000000</td>\n",
       "      <td>0.100000</td>\n",
       "      <td>0.500000</td>\n",
       "      <td>4.500000</td>\n",
       "      <td>0.000000</td>\n",
       "    </tr>\n",
       "    <tr>\n",
       "      <th>25%</th>\n",
       "      <td>53173.50000</td>\n",
       "      <td>33.000000</td>\n",
       "      <td>2.570000</td>\n",
       "      <td>1.250000</td>\n",
       "      <td>6.370000</td>\n",
       "      <td>1.250000</td>\n",
       "    </tr>\n",
       "    <tr>\n",
       "      <th>50%</th>\n",
       "      <td>106346.00000</td>\n",
       "      <td>52.000000</td>\n",
       "      <td>5.040000</td>\n",
       "      <td>2.000000</td>\n",
       "      <td>8.240000</td>\n",
       "      <td>2.510000</td>\n",
       "    </tr>\n",
       "    <tr>\n",
       "      <th>75%</th>\n",
       "      <td>159518.50000</td>\n",
       "      <td>71.000000</td>\n",
       "      <td>7.520000</td>\n",
       "      <td>2.750000</td>\n",
       "      <td>10.120000</td>\n",
       "      <td>3.760000</td>\n",
       "    </tr>\n",
       "    <tr>\n",
       "      <th>max</th>\n",
       "      <td>212691.00000</td>\n",
       "      <td>89.000000</td>\n",
       "      <td>10.000000</td>\n",
       "      <td>3.500000</td>\n",
       "      <td>12.000000</td>\n",
       "      <td>5.000000</td>\n",
       "    </tr>\n",
       "  </tbody>\n",
       "</table>\n",
       "</div>"
      ],
      "text/plain": [
       "         Patient_ID            Age      TSH_Level       T3_Level  \\\n",
       "count  212691.00000  212691.000000  212691.000000  212691.000000   \n",
       "mean   106346.00000      51.918497       5.045102       2.001727   \n",
       "std     61398.74739      21.632815       2.860264       0.866248   \n",
       "min         1.00000      15.000000       0.100000       0.500000   \n",
       "25%     53173.50000      33.000000       2.570000       1.250000   \n",
       "50%    106346.00000      52.000000       5.040000       2.000000   \n",
       "75%    159518.50000      71.000000       7.520000       2.750000   \n",
       "max    212691.00000      89.000000      10.000000       3.500000   \n",
       "\n",
       "            T4_Level    Nodule_Size  \n",
       "count  212691.000000  212691.000000  \n",
       "mean        8.246204       2.503403  \n",
       "std         2.164188       1.444631  \n",
       "min         4.500000       0.000000  \n",
       "25%         6.370000       1.250000  \n",
       "50%         8.240000       2.510000  \n",
       "75%        10.120000       3.760000  \n",
       "max        12.000000       5.000000  "
      ]
     },
     "execution_count": 7,
     "metadata": {},
     "output_type": "execute_result"
    }
   ],
   "source": [
    "df.describe()"
   ]
  },
  {
   "cell_type": "code",
   "execution_count": 8,
   "id": "54f1b20b-6056-470e-9ac3-c17d28736b82",
   "metadata": {},
   "outputs": [
    {
     "data": {
      "text/plain": [
       "Patient_ID             0\n",
       "Age                    0\n",
       "Gender                 0\n",
       "Country                0\n",
       "Ethnicity              0\n",
       "Family_History         0\n",
       "Radiation_Exposure     0\n",
       "Iodine_Deficiency      0\n",
       "Smoking                0\n",
       "Obesity                0\n",
       "Diabetes               0\n",
       "TSH_Level              0\n",
       "T3_Level               0\n",
       "T4_Level               0\n",
       "Nodule_Size            0\n",
       "Thyroid_Cancer_Risk    0\n",
       "Diagnosis              0\n",
       "dtype: int64"
      ]
     },
     "execution_count": 8,
     "metadata": {},
     "output_type": "execute_result"
    }
   ],
   "source": [
    "df.isna().sum()"
   ]
  },
  {
   "cell_type": "code",
   "execution_count": 19,
   "id": "fec523e0-0103-416e-8b65-b7cdbaca35a2",
   "metadata": {},
   "outputs": [],
   "source": [
    "df.drop('Patient_ID',axis=1,inplace=True)"
   ]
  },
  {
   "cell_type": "code",
   "execution_count": 20,
   "id": "014cd168-7325-4df6-923d-2a0c3730b4b3",
   "metadata": {},
   "outputs": [
    {
     "data": {
      "text/html": [
       "<div>\n",
       "<style scoped>\n",
       "    .dataframe tbody tr th:only-of-type {\n",
       "        vertical-align: middle;\n",
       "    }\n",
       "\n",
       "    .dataframe tbody tr th {\n",
       "        vertical-align: top;\n",
       "    }\n",
       "\n",
       "    .dataframe thead th {\n",
       "        text-align: right;\n",
       "    }\n",
       "</style>\n",
       "<table border=\"1\" class=\"dataframe\">\n",
       "  <thead>\n",
       "    <tr style=\"text-align: right;\">\n",
       "      <th></th>\n",
       "      <th>Age</th>\n",
       "      <th>Gender</th>\n",
       "      <th>Country</th>\n",
       "      <th>Ethnicity</th>\n",
       "      <th>Family_History</th>\n",
       "      <th>Radiation_Exposure</th>\n",
       "      <th>Iodine_Deficiency</th>\n",
       "      <th>Smoking</th>\n",
       "      <th>Obesity</th>\n",
       "      <th>Diabetes</th>\n",
       "      <th>TSH_Level</th>\n",
       "      <th>T3_Level</th>\n",
       "      <th>T4_Level</th>\n",
       "      <th>Nodule_Size</th>\n",
       "      <th>Thyroid_Cancer_Risk</th>\n",
       "      <th>Diagnosis</th>\n",
       "    </tr>\n",
       "  </thead>\n",
       "  <tbody>\n",
       "    <tr>\n",
       "      <th>0</th>\n",
       "      <td>66</td>\n",
       "      <td>Male</td>\n",
       "      <td>Russia</td>\n",
       "      <td>Caucasian</td>\n",
       "      <td>No</td>\n",
       "      <td>Yes</td>\n",
       "      <td>No</td>\n",
       "      <td>No</td>\n",
       "      <td>No</td>\n",
       "      <td>No</td>\n",
       "      <td>9.37</td>\n",
       "      <td>1.67</td>\n",
       "      <td>6.16</td>\n",
       "      <td>1.08</td>\n",
       "      <td>Low</td>\n",
       "      <td>Benign</td>\n",
       "    </tr>\n",
       "    <tr>\n",
       "      <th>1</th>\n",
       "      <td>29</td>\n",
       "      <td>Male</td>\n",
       "      <td>Germany</td>\n",
       "      <td>Hispanic</td>\n",
       "      <td>No</td>\n",
       "      <td>Yes</td>\n",
       "      <td>No</td>\n",
       "      <td>No</td>\n",
       "      <td>No</td>\n",
       "      <td>No</td>\n",
       "      <td>1.83</td>\n",
       "      <td>1.73</td>\n",
       "      <td>10.54</td>\n",
       "      <td>4.05</td>\n",
       "      <td>Low</td>\n",
       "      <td>Benign</td>\n",
       "    </tr>\n",
       "    <tr>\n",
       "      <th>2</th>\n",
       "      <td>86</td>\n",
       "      <td>Male</td>\n",
       "      <td>Nigeria</td>\n",
       "      <td>Caucasian</td>\n",
       "      <td>No</td>\n",
       "      <td>No</td>\n",
       "      <td>No</td>\n",
       "      <td>No</td>\n",
       "      <td>No</td>\n",
       "      <td>No</td>\n",
       "      <td>6.26</td>\n",
       "      <td>2.59</td>\n",
       "      <td>10.57</td>\n",
       "      <td>4.61</td>\n",
       "      <td>Low</td>\n",
       "      <td>Benign</td>\n",
       "    </tr>\n",
       "    <tr>\n",
       "      <th>3</th>\n",
       "      <td>75</td>\n",
       "      <td>Female</td>\n",
       "      <td>India</td>\n",
       "      <td>Asian</td>\n",
       "      <td>No</td>\n",
       "      <td>No</td>\n",
       "      <td>No</td>\n",
       "      <td>No</td>\n",
       "      <td>No</td>\n",
       "      <td>No</td>\n",
       "      <td>4.10</td>\n",
       "      <td>2.62</td>\n",
       "      <td>11.04</td>\n",
       "      <td>2.46</td>\n",
       "      <td>Medium</td>\n",
       "      <td>Benign</td>\n",
       "    </tr>\n",
       "    <tr>\n",
       "      <th>4</th>\n",
       "      <td>35</td>\n",
       "      <td>Female</td>\n",
       "      <td>Germany</td>\n",
       "      <td>African</td>\n",
       "      <td>Yes</td>\n",
       "      <td>Yes</td>\n",
       "      <td>No</td>\n",
       "      <td>No</td>\n",
       "      <td>No</td>\n",
       "      <td>No</td>\n",
       "      <td>9.10</td>\n",
       "      <td>2.11</td>\n",
       "      <td>10.71</td>\n",
       "      <td>2.11</td>\n",
       "      <td>High</td>\n",
       "      <td>Benign</td>\n",
       "    </tr>\n",
       "    <tr>\n",
       "      <th>...</th>\n",
       "      <td>...</td>\n",
       "      <td>...</td>\n",
       "      <td>...</td>\n",
       "      <td>...</td>\n",
       "      <td>...</td>\n",
       "      <td>...</td>\n",
       "      <td>...</td>\n",
       "      <td>...</td>\n",
       "      <td>...</td>\n",
       "      <td>...</td>\n",
       "      <td>...</td>\n",
       "      <td>...</td>\n",
       "      <td>...</td>\n",
       "      <td>...</td>\n",
       "      <td>...</td>\n",
       "      <td>...</td>\n",
       "    </tr>\n",
       "    <tr>\n",
       "      <th>212686</th>\n",
       "      <td>58</td>\n",
       "      <td>Female</td>\n",
       "      <td>India</td>\n",
       "      <td>Asian</td>\n",
       "      <td>No</td>\n",
       "      <td>No</td>\n",
       "      <td>No</td>\n",
       "      <td>No</td>\n",
       "      <td>Yes</td>\n",
       "      <td>No</td>\n",
       "      <td>2.00</td>\n",
       "      <td>0.64</td>\n",
       "      <td>11.92</td>\n",
       "      <td>1.48</td>\n",
       "      <td>Low</td>\n",
       "      <td>Benign</td>\n",
       "    </tr>\n",
       "    <tr>\n",
       "      <th>212687</th>\n",
       "      <td>89</td>\n",
       "      <td>Male</td>\n",
       "      <td>Japan</td>\n",
       "      <td>Middle Eastern</td>\n",
       "      <td>No</td>\n",
       "      <td>No</td>\n",
       "      <td>No</td>\n",
       "      <td>No</td>\n",
       "      <td>Yes</td>\n",
       "      <td>No</td>\n",
       "      <td>9.77</td>\n",
       "      <td>3.25</td>\n",
       "      <td>7.30</td>\n",
       "      <td>4.46</td>\n",
       "      <td>Medium</td>\n",
       "      <td>Benign</td>\n",
       "    </tr>\n",
       "    <tr>\n",
       "      <th>212688</th>\n",
       "      <td>72</td>\n",
       "      <td>Female</td>\n",
       "      <td>Nigeria</td>\n",
       "      <td>Hispanic</td>\n",
       "      <td>No</td>\n",
       "      <td>No</td>\n",
       "      <td>No</td>\n",
       "      <td>No</td>\n",
       "      <td>No</td>\n",
       "      <td>Yes</td>\n",
       "      <td>7.72</td>\n",
       "      <td>2.44</td>\n",
       "      <td>8.71</td>\n",
       "      <td>2.36</td>\n",
       "      <td>Medium</td>\n",
       "      <td>Benign</td>\n",
       "    </tr>\n",
       "    <tr>\n",
       "      <th>212689</th>\n",
       "      <td>85</td>\n",
       "      <td>Female</td>\n",
       "      <td>Brazil</td>\n",
       "      <td>Middle Eastern</td>\n",
       "      <td>No</td>\n",
       "      <td>No</td>\n",
       "      <td>No</td>\n",
       "      <td>No</td>\n",
       "      <td>No</td>\n",
       "      <td>Yes</td>\n",
       "      <td>5.62</td>\n",
       "      <td>2.53</td>\n",
       "      <td>9.62</td>\n",
       "      <td>1.54</td>\n",
       "      <td>Medium</td>\n",
       "      <td>Benign</td>\n",
       "    </tr>\n",
       "    <tr>\n",
       "      <th>212690</th>\n",
       "      <td>46</td>\n",
       "      <td>Female</td>\n",
       "      <td>Japan</td>\n",
       "      <td>Middle Eastern</td>\n",
       "      <td>No</td>\n",
       "      <td>No</td>\n",
       "      <td>No</td>\n",
       "      <td>Yes</td>\n",
       "      <td>No</td>\n",
       "      <td>No</td>\n",
       "      <td>5.60</td>\n",
       "      <td>2.73</td>\n",
       "      <td>10.59</td>\n",
       "      <td>2.53</td>\n",
       "      <td>Low</td>\n",
       "      <td>Malignant</td>\n",
       "    </tr>\n",
       "  </tbody>\n",
       "</table>\n",
       "<p>212691 rows × 16 columns</p>\n",
       "</div>"
      ],
      "text/plain": [
       "        Age  Gender  Country       Ethnicity Family_History  \\\n",
       "0        66    Male   Russia       Caucasian             No   \n",
       "1        29    Male  Germany        Hispanic             No   \n",
       "2        86    Male  Nigeria       Caucasian             No   \n",
       "3        75  Female    India           Asian             No   \n",
       "4        35  Female  Germany         African            Yes   \n",
       "...     ...     ...      ...             ...            ...   \n",
       "212686   58  Female    India           Asian             No   \n",
       "212687   89    Male    Japan  Middle Eastern             No   \n",
       "212688   72  Female  Nigeria        Hispanic             No   \n",
       "212689   85  Female   Brazil  Middle Eastern             No   \n",
       "212690   46  Female    Japan  Middle Eastern             No   \n",
       "\n",
       "       Radiation_Exposure Iodine_Deficiency Smoking Obesity Diabetes  \\\n",
       "0                     Yes                No      No      No       No   \n",
       "1                     Yes                No      No      No       No   \n",
       "2                      No                No      No      No       No   \n",
       "3                      No                No      No      No       No   \n",
       "4                     Yes                No      No      No       No   \n",
       "...                   ...               ...     ...     ...      ...   \n",
       "212686                 No                No      No     Yes       No   \n",
       "212687                 No                No      No     Yes       No   \n",
       "212688                 No                No      No      No      Yes   \n",
       "212689                 No                No      No      No      Yes   \n",
       "212690                 No                No     Yes      No       No   \n",
       "\n",
       "        TSH_Level  T3_Level  T4_Level  Nodule_Size Thyroid_Cancer_Risk  \\\n",
       "0            9.37      1.67      6.16         1.08                 Low   \n",
       "1            1.83      1.73     10.54         4.05                 Low   \n",
       "2            6.26      2.59     10.57         4.61                 Low   \n",
       "3            4.10      2.62     11.04         2.46              Medium   \n",
       "4            9.10      2.11     10.71         2.11                High   \n",
       "...           ...       ...       ...          ...                 ...   \n",
       "212686       2.00      0.64     11.92         1.48                 Low   \n",
       "212687       9.77      3.25      7.30         4.46              Medium   \n",
       "212688       7.72      2.44      8.71         2.36              Medium   \n",
       "212689       5.62      2.53      9.62         1.54              Medium   \n",
       "212690       5.60      2.73     10.59         2.53                 Low   \n",
       "\n",
       "        Diagnosis  \n",
       "0          Benign  \n",
       "1          Benign  \n",
       "2          Benign  \n",
       "3          Benign  \n",
       "4          Benign  \n",
       "...           ...  \n",
       "212686     Benign  \n",
       "212687     Benign  \n",
       "212688     Benign  \n",
       "212689     Benign  \n",
       "212690  Malignant  \n",
       "\n",
       "[212691 rows x 16 columns]"
      ]
     },
     "execution_count": 20,
     "metadata": {},
     "output_type": "execute_result"
    }
   ],
   "source": [
    "df"
   ]
  },
  {
   "cell_type": "markdown",
   "id": "f36627b1-f15e-4fa9-961f-bb732591ac4d",
   "metadata": {},
   "source": [
    "## how many levels of Thyroid_Cancer_Risk\t"
   ]
  },
  {
   "cell_type": "code",
   "execution_count": 23,
   "id": "cd694d51-ded3-467d-aba8-4c910d1a479b",
   "metadata": {},
   "outputs": [
    {
     "data": {
      "text/plain": [
       "array(['Low', 'Medium', 'High'], dtype=object)"
      ]
     },
     "execution_count": 23,
     "metadata": {},
     "output_type": "execute_result"
    }
   ],
   "source": [
    "df['Thyroid_Cancer_Risk'].unique()"
   ]
  },
  {
   "cell_type": "markdown",
   "id": "10d24d4d-f64a-482f-b9a1-24d78c14a7e7",
   "metadata": {},
   "source": [
    "## Display Count of each Risk level"
   ]
  },
  {
   "cell_type": "code",
   "execution_count": 39,
   "id": "7044ae7b-4497-4b3c-9153-7d4797ca983b",
   "metadata": {},
   "outputs": [
    {
     "name": "stdout",
     "output_type": "stream",
     "text": [
      "Thyroid_Cancer_Risk\n",
      "Low       108388\n",
      "Medium     72400\n",
      "High       31903\n",
      "Name: count, dtype: int64\n"
     ]
    }
   ],
   "source": [
    "risk_counts = df['Thyroid_Cancer_Risk'].value_counts()\n",
    "print(risk_counts)"
   ]
  },
  {
   "cell_type": "markdown",
   "id": "d01a7dfb-86fa-41bb-8818-792e84d45de9",
   "metadata": {},
   "source": [
    "## Thyroid Cancer Risk Distribution"
   ]
  },
  {
   "cell_type": "code",
   "execution_count": 40,
   "id": "0b8db683-4c9e-451d-9e15-dfdbc06743ed",
   "metadata": {},
   "outputs": [
    {
     "data": {
      "image/png": "[encoded data removed]",
      "text/plain": [
       "<Figure size 640x480 with 1 Axes>"
      ]
     },
     "metadata": {},
     "output_type": "display_data"
    }
   ],
   "source": [
    "risk_counts = df['Thyroid_Cancer_Risk'].value_counts()\n",
    "plt.pie(risk_counts, labels=risk_counts.index, autopct='%1.1f%%', startangle=90)\n",
    "plt.title('Thyroid Cancer Risk Distribution')\n",
    "plt.show()"
   ]
  },
  {
   "cell_type": "markdown",
   "id": "d1dd8712-8b10-490b-ac78-3f7b59139dda",
   "metadata": {},
   "source": [
    "#### In above Dataset 51% patients have low risk\n",
    "#### In above Dataset 34% patients have Medium risk\n",
    "#### In above Dataset 15% patients have High risk"
   ]
  },
  {
   "cell_type": "code",
   "execution_count": 44,
   "id": "41e8905c-d270-455e-b474-0ccea789ed78",
   "metadata": {},
   "outputs": [
    {
     "data": {
      "text/plain": [
       "array(['Russia', 'Germany', 'Nigeria', 'India', 'UK', 'South Korea',\n",
       "       'Brazil', 'China', 'Japan', 'USA'], dtype=object)"
      ]
     },
     "execution_count": 44,
     "metadata": {},
     "output_type": "execute_result"
    }
   ],
   "source": [
    "df['Country'].unique()    #unique country names"
   ]
  },
  {
   "cell_type": "code",
   "execution_count": 45,
   "id": "ed6eb8e1-9814-4a80-b459-fda9962643d4",
   "metadata": {},
   "outputs": [
    {
     "data": {
      "text/plain": [
       "10"
      ]
     },
     "execution_count": 45,
     "metadata": {},
     "output_type": "execute_result"
    }
   ],
   "source": [
    "df['Country'].nunique()   # No.of Unique country"
   ]
  },
  {
   "cell_type": "markdown",
   "id": "e06e8333-ddc8-426e-851b-1842c186f610",
   "metadata": {},
   "source": [
    "## Bar chart on Smoking Distribution by Country"
   ]
  },
  {
   "cell_type": "code",
   "execution_count": 50,
   "id": "30916d6e-8002-40d5-8084-3f75d8e5ec4a",
   "metadata": {},
   "outputs": [
    {
     "data": {
      "image/png": "[encoded data removed]",
      "text/plain": [
       "<Figure size 800x500 with 1 Axes>"
      ]
     },
     "metadata": {},
     "output_type": "display_data"
    }
   ],
   "source": [
    "country_smoking = df.groupby(['Country', 'Smoking']).size().unstack(fill_value=0)\n",
    "country_smoking.plot(kind='bar', figsize=(8,5))\n",
    "plt.title('Smoking Distribution by Country')\n",
    "plt.xlabel('Country')\n",
    "plt.ylabel('Number of Patients')\n",
    "plt.legend(title='Smoking Status')\n",
    "plt.xticks(rotation=0)\n",
    "plt.show()\n"
   ]
  },
  {
   "cell_type": "markdown",
   "id": "59fd4c5c-5ffb-4cb1-b458-d275cc685c6b",
   "metadata": {},
   "source": [
    "#### Across all countries thyroid cancer patients are predominantly non-smokers\n",
    "#### India has the highest number of patients, both smokers and non-smokers.\n",
    "#### Germany,UK,USA have the lowest patient counts compared to other countries."
   ]
  },
  {
   "cell_type": "markdown",
   "id": "5e61b26e-b4ea-451e-a042-6a59ed0a33e2",
   "metadata": {},
   "source": [
    "## Bar chart on Smoking Distribution by Gender"
   ]
  },
  {
   "cell_type": "code",
   "execution_count": 53,
   "id": "bd7d325c-cb03-415d-ab46-897047be7057",
   "metadata": {},
   "outputs": [
    {
     "data": {
      "image/png": "[encoded data removed]",
      "text/plain": [
       "<Figure size 600x400 with 1 Axes>"
      ]
     },
     "metadata": {},
     "output_type": "display_data"
    }
   ],
   "source": [
    "gender_smoking = df.groupby(['Gender', 'Smoking']).size().unstack(fill_value=0)\n",
    "gender_smoking.plot(kind='bar', figsize=(6,4))\n",
    "plt.title('Smoking Distribution by Gender')\n",
    "plt.xlabel('Gender')\n",
    "plt.ylabel('Number of Patients')\n",
    "plt.legend(title='Smoking Status')\n",
    "plt.xticks(rotation=0)\n",
    "plt.grid(alpha=0.7)\n",
    "plt.show()\n"
   ]
  },
  {
   "cell_type": "markdown",
   "id": "39cdf22a-33f4-4f0e-910d-bad3a8af531b",
   "metadata": {},
   "source": [
    "#### count of smoker females is less than count of Non-smoker females \n",
    "#### count of smoker males is less than count of Non-smoker males \n",
    "#### Female patients are higher in number compared to males."
   ]
  },
  {
   "cell_type": "code",
   "execution_count": 54,
   "id": "63e97b1d-083c-4201-bde2-075d214ce728",
   "metadata": {},
   "outputs": [
    {
     "data": {
      "text/html": [
       "<div>\n",
       "<style scoped>\n",
       "    .dataframe tbody tr th:only-of-type {\n",
       "        vertical-align: middle;\n",
       "    }\n",
       "\n",
       "    .dataframe tbody tr th {\n",
       "        vertical-align: top;\n",
       "    }\n",
       "\n",
       "    .dataframe thead th {\n",
       "        text-align: right;\n",
       "    }\n",
       "</style>\n",
       "<table border=\"1\" class=\"dataframe\">\n",
       "  <thead>\n",
       "    <tr style=\"text-align: right;\">\n",
       "      <th></th>\n",
       "      <th>Patient_ID</th>\n",
       "      <th>Age</th>\n",
       "      <th>Gender</th>\n",
       "      <th>Country</th>\n",
       "      <th>Ethnicity</th>\n",
       "      <th>Family_History</th>\n",
       "      <th>Radiation_Exposure</th>\n",
       "      <th>Iodine_Deficiency</th>\n",
       "      <th>Smoking</th>\n",
       "      <th>Obesity</th>\n",
       "      <th>Diabetes</th>\n",
       "      <th>TSH_Level</th>\n",
       "      <th>T3_Level</th>\n",
       "      <th>T4_Level</th>\n",
       "      <th>Nodule_Size</th>\n",
       "      <th>Thyroid_Cancer_Risk</th>\n",
       "      <th>Diagnosis</th>\n",
       "    </tr>\n",
       "  </thead>\n",
       "  <tbody>\n",
       "    <tr>\n",
       "      <th>0</th>\n",
       "      <td>1</td>\n",
       "      <td>66</td>\n",
       "      <td>Male</td>\n",
       "      <td>Russia</td>\n",
       "      <td>Caucasian</td>\n",
       "      <td>No</td>\n",
       "      <td>Yes</td>\n",
       "      <td>No</td>\n",
       "      <td>No</td>\n",
       "      <td>No</td>\n",
       "      <td>No</td>\n",
       "      <td>9.37</td>\n",
       "      <td>1.67</td>\n",
       "      <td>6.16</td>\n",
       "      <td>1.08</td>\n",
       "      <td>Low</td>\n",
       "      <td>Benign</td>\n",
       "    </tr>\n",
       "    <tr>\n",
       "      <th>2</th>\n",
       "      <td>3</td>\n",
       "      <td>86</td>\n",
       "      <td>Male</td>\n",
       "      <td>Nigeria</td>\n",
       "      <td>Caucasian</td>\n",
       "      <td>No</td>\n",
       "      <td>No</td>\n",
       "      <td>No</td>\n",
       "      <td>No</td>\n",
       "      <td>No</td>\n",
       "      <td>No</td>\n",
       "      <td>6.26</td>\n",
       "      <td>2.59</td>\n",
       "      <td>10.57</td>\n",
       "      <td>4.61</td>\n",
       "      <td>Low</td>\n",
       "      <td>Benign</td>\n",
       "    </tr>\n",
       "    <tr>\n",
       "      <th>4</th>\n",
       "      <td>5</td>\n",
       "      <td>35</td>\n",
       "      <td>Female</td>\n",
       "      <td>Germany</td>\n",
       "      <td>African</td>\n",
       "      <td>Yes</td>\n",
       "      <td>Yes</td>\n",
       "      <td>No</td>\n",
       "      <td>No</td>\n",
       "      <td>No</td>\n",
       "      <td>No</td>\n",
       "      <td>9.10</td>\n",
       "      <td>2.11</td>\n",
       "      <td>10.71</td>\n",
       "      <td>2.11</td>\n",
       "      <td>High</td>\n",
       "      <td>Benign</td>\n",
       "    </tr>\n",
       "    <tr>\n",
       "      <th>7</th>\n",
       "      <td>8</td>\n",
       "      <td>38</td>\n",
       "      <td>Female</td>\n",
       "      <td>India</td>\n",
       "      <td>African</td>\n",
       "      <td>No</td>\n",
       "      <td>No</td>\n",
       "      <td>No</td>\n",
       "      <td>No</td>\n",
       "      <td>No</td>\n",
       "      <td>No</td>\n",
       "      <td>5.54</td>\n",
       "      <td>3.49</td>\n",
       "      <td>9.47</td>\n",
       "      <td>4.30</td>\n",
       "      <td>Medium</td>\n",
       "      <td>Benign</td>\n",
       "    </tr>\n",
       "    <tr>\n",
       "      <th>10</th>\n",
       "      <td>11</td>\n",
       "      <td>67</td>\n",
       "      <td>Male</td>\n",
       "      <td>Nigeria</td>\n",
       "      <td>African</td>\n",
       "      <td>No</td>\n",
       "      <td>Yes</td>\n",
       "      <td>No</td>\n",
       "      <td>No</td>\n",
       "      <td>No</td>\n",
       "      <td>No</td>\n",
       "      <td>9.65</td>\n",
       "      <td>1.82</td>\n",
       "      <td>8.17</td>\n",
       "      <td>0.35</td>\n",
       "      <td>High</td>\n",
       "      <td>Malignant</td>\n",
       "    </tr>\n",
       "    <tr>\n",
       "      <th>...</th>\n",
       "      <td>...</td>\n",
       "      <td>...</td>\n",
       "      <td>...</td>\n",
       "      <td>...</td>\n",
       "      <td>...</td>\n",
       "      <td>...</td>\n",
       "      <td>...</td>\n",
       "      <td>...</td>\n",
       "      <td>...</td>\n",
       "      <td>...</td>\n",
       "      <td>...</td>\n",
       "      <td>...</td>\n",
       "      <td>...</td>\n",
       "      <td>...</td>\n",
       "      <td>...</td>\n",
       "      <td>...</td>\n",
       "      <td>...</td>\n",
       "    </tr>\n",
       "    <tr>\n",
       "      <th>212685</th>\n",
       "      <td>212686</td>\n",
       "      <td>43</td>\n",
       "      <td>Male</td>\n",
       "      <td>India</td>\n",
       "      <td>African</td>\n",
       "      <td>Yes</td>\n",
       "      <td>No</td>\n",
       "      <td>No</td>\n",
       "      <td>No</td>\n",
       "      <td>No</td>\n",
       "      <td>No</td>\n",
       "      <td>6.54</td>\n",
       "      <td>1.11</td>\n",
       "      <td>9.96</td>\n",
       "      <td>1.10</td>\n",
       "      <td>Low</td>\n",
       "      <td>Benign</td>\n",
       "    </tr>\n",
       "    <tr>\n",
       "      <th>212687</th>\n",
       "      <td>212688</td>\n",
       "      <td>89</td>\n",
       "      <td>Male</td>\n",
       "      <td>Japan</td>\n",
       "      <td>Middle Eastern</td>\n",
       "      <td>No</td>\n",
       "      <td>No</td>\n",
       "      <td>No</td>\n",
       "      <td>No</td>\n",
       "      <td>Yes</td>\n",
       "      <td>No</td>\n",
       "      <td>9.77</td>\n",
       "      <td>3.25</td>\n",
       "      <td>7.30</td>\n",
       "      <td>4.46</td>\n",
       "      <td>Medium</td>\n",
       "      <td>Benign</td>\n",
       "    </tr>\n",
       "    <tr>\n",
       "      <th>212688</th>\n",
       "      <td>212689</td>\n",
       "      <td>72</td>\n",
       "      <td>Female</td>\n",
       "      <td>Nigeria</td>\n",
       "      <td>Hispanic</td>\n",
       "      <td>No</td>\n",
       "      <td>No</td>\n",
       "      <td>No</td>\n",
       "      <td>No</td>\n",
       "      <td>No</td>\n",
       "      <td>Yes</td>\n",
       "      <td>7.72</td>\n",
       "      <td>2.44</td>\n",
       "      <td>8.71</td>\n",
       "      <td>2.36</td>\n",
       "      <td>Medium</td>\n",
       "      <td>Benign</td>\n",
       "    </tr>\n",
       "    <tr>\n",
       "      <th>212689</th>\n",
       "      <td>212690</td>\n",
       "      <td>85</td>\n",
       "      <td>Female</td>\n",
       "      <td>Brazil</td>\n",
       "      <td>Middle Eastern</td>\n",
       "      <td>No</td>\n",
       "      <td>No</td>\n",
       "      <td>No</td>\n",
       "      <td>No</td>\n",
       "      <td>No</td>\n",
       "      <td>Yes</td>\n",
       "      <td>5.62</td>\n",
       "      <td>2.53</td>\n",
       "      <td>9.62</td>\n",
       "      <td>1.54</td>\n",
       "      <td>Medium</td>\n",
       "      <td>Benign</td>\n",
       "    </tr>\n",
       "    <tr>\n",
       "      <th>212690</th>\n",
       "      <td>212691</td>\n",
       "      <td>46</td>\n",
       "      <td>Female</td>\n",
       "      <td>Japan</td>\n",
       "      <td>Middle Eastern</td>\n",
       "      <td>No</td>\n",
       "      <td>No</td>\n",
       "      <td>No</td>\n",
       "      <td>Yes</td>\n",
       "      <td>No</td>\n",
       "      <td>No</td>\n",
       "      <td>5.60</td>\n",
       "      <td>2.73</td>\n",
       "      <td>10.59</td>\n",
       "      <td>2.53</td>\n",
       "      <td>Low</td>\n",
       "      <td>Malignant</td>\n",
       "    </tr>\n",
       "  </tbody>\n",
       "</table>\n",
       "<p>107298 rows × 17 columns</p>\n",
       "</div>"
      ],
      "text/plain": [
       "        Patient_ID  Age  Gender  Country       Ethnicity Family_History  \\\n",
       "0                1   66    Male   Russia       Caucasian             No   \n",
       "2                3   86    Male  Nigeria       Caucasian             No   \n",
       "4                5   35  Female  Germany         African            Yes   \n",
       "7                8   38  Female    India         African             No   \n",
       "10              11   67    Male  Nigeria         African             No   \n",
       "...            ...  ...     ...      ...             ...            ...   \n",
       "212685      212686   43    Male    India         African            Yes   \n",
       "212687      212688   89    Male    Japan  Middle Eastern             No   \n",
       "212688      212689   72  Female  Nigeria        Hispanic             No   \n",
       "212689      212690   85  Female   Brazil  Middle Eastern             No   \n",
       "212690      212691   46  Female    Japan  Middle Eastern             No   \n",
       "\n",
       "       Radiation_Exposure Iodine_Deficiency Smoking Obesity Diabetes  \\\n",
       "0                     Yes                No      No      No       No   \n",
       "2                      No                No      No      No       No   \n",
       "4                     Yes                No      No      No       No   \n",
       "7                      No                No      No      No       No   \n",
       "10                    Yes                No      No      No       No   \n",
       "...                   ...               ...     ...     ...      ...   \n",
       "212685                 No                No      No      No       No   \n",
       "212687                 No                No      No     Yes       No   \n",
       "212688                 No                No      No      No      Yes   \n",
       "212689                 No                No      No      No      Yes   \n",
       "212690                 No                No     Yes      No       No   \n",
       "\n",
       "        TSH_Level  T3_Level  T4_Level  Nodule_Size Thyroid_Cancer_Risk  \\\n",
       "0            9.37      1.67      6.16         1.08                 Low   \n",
       "2            6.26      2.59     10.57         4.61                 Low   \n",
       "4            9.10      2.11     10.71         2.11                High   \n",
       "7            5.54      3.49      9.47         4.30              Medium   \n",
       "10           9.65      1.82      8.17         0.35                High   \n",
       "...           ...       ...       ...          ...                 ...   \n",
       "212685       6.54      1.11      9.96         1.10                 Low   \n",
       "212687       9.77      3.25      7.30         4.46              Medium   \n",
       "212688       7.72      2.44      8.71         2.36              Medium   \n",
       "212689       5.62      2.53      9.62         1.54              Medium   \n",
       "212690       5.60      2.73     10.59         2.53                 Low   \n",
       "\n",
       "        Diagnosis  \n",
       "0          Benign  \n",
       "2          Benign  \n",
       "4          Benign  \n",
       "7          Benign  \n",
       "10      Malignant  \n",
       "...           ...  \n",
       "212685     Benign  \n",
       "212687     Benign  \n",
       "212688     Benign  \n",
       "212689     Benign  \n",
       "212690  Malignant  \n",
       "\n",
       "[107298 rows x 17 columns]"
      ]
     },
     "execution_count": 54,
     "metadata": {},
     "output_type": "execute_result"
    }
   ],
   "source": [
    "df[df['TSH_Level'] >= 5.0]"
   ]
  },
  {
   "cell_type": "code",
   "execution_count": 63,
   "id": "c758a7ba-f489-4ec1-a66c-3cd5a396701e",
   "metadata": {},
   "outputs": [
    {
     "data": {
      "image/png": "[encoded data removed]",
      "text/plain": [
       "<Figure size 640x480 with 1 Axes>"
      ]
     },
     "metadata": {},
     "output_type": "display_data"
    }
   ],
   "source": [
    "plt.hist(df['Ethnicity'])\n",
    "plt.show()"
   ]
  },
  {
   "cell_type": "markdown",
   "id": "8d4224f3-bbbd-4f06-a246-9bd7bde39784",
   "metadata": {},
   "source": [
    "#### most patients in the dataset are Caucasian and Asian\n",
    "#### less patients in the dataset are Middle Eastern"
   ]
  },
  {
   "cell_type": "code",
   "execution_count": 65,
   "id": "66aa0349-7885-4c5f-85a0-f69aa239a3a5",
   "metadata": {},
   "outputs": [
    {
     "name": "stdout",
     "output_type": "stream",
     "text": [
      "Gender\n",
      "Female    127527\n",
      "Male       85164\n",
      "Name: count, dtype: int64\n"
     ]
    }
   ],
   "source": [
    "gender_counts = df['Gender'].value_counts()\n",
    "print(gender_counts)"
   ]
  },
  {
   "cell_type": "code",
   "execution_count": null,
   "id": "b60ee1ab-288f-4b3d-b9a1-aabfe140b20e",
   "metadata": {},
   "outputs": [],
   "source": [
    "# bar plot of gender vs count\n",
    "df[\"Gender\"].value_counts().plot(kind = 'bar', color = ['blue', 'orange'])\n",
    "plt.title(\"Gender vs count\")\n",
    "plt.grid(alpha = 0.2)\n",
    "plt.show()"
   ]
  },
  {
   "cell_type": "code",
   "execution_count": 66,
   "id": "83719b6a-cb7e-4b1f-bdfc-e2038298a9a2",
   "metadata": {},
   "outputs": [
    {
     "name": "stdout",
     "output_type": "stream",
     "text": [
      "Country\n",
      "India          42496\n",
      "China          31978\n",
      "Nigeria        31918\n",
      "Brazil         21413\n",
      "Russia         21297\n",
      "Japan          16867\n",
      "South Korea    14965\n",
      "UK             10642\n",
      "USA            10558\n",
      "Germany        10557\n",
      "Name: count, dtype: int64\n"
     ]
    }
   ],
   "source": [
    "country_counts = df['Country'].value_counts()\n",
    "print(country_counts)"
   ]
  },
  {
   "cell_type": "code",
   "execution_count": 67,
   "id": "eb9d58e3-97db-4e8f-95c1-48a6e0929f63",
   "metadata": {},
   "outputs": [
    {
     "data": {
      "image/png": "[encoded data removed]",
      "text/plain": [
       "<Figure size 640x480 with 1 Axes>"
      ]
     },
     "metadata": {},
     "output_type": "display_data"
    }
   ],
   "source": [
    "fam_history = df['Family_History'].value_counts()\n",
    "plt.pie(fam_history, labels=fam_history.index, autopct='%1.1f%%', startangle=90)\n",
    "plt.title('Thyroid Family History')\n",
    "plt.show()"
   ]
  },
  {
   "cell_type": "markdown",
   "id": "93d1509a-e8bd-4262-8b1a-a1c4e431c547",
   "metadata": {},
   "source": [
    "#### 70.0% patients in the dataset do not have a family history of thyroid issues (No).\n",
    "#### 30.0% patients in the dataset do have a family history of thyroid issues (Yes)."
   ]
  },
  {
   "cell_type": "code",
   "execution_count": null,
   "id": "3647b526-a1b9-44c5-9742-a54cf8b42780",
   "metadata": {},
   "outputs": [],
   "source": [
    "sns.pairplot(df, hue = \"Gender\")\n",
    "plt.show()"
   ]
  },
  {
   "cell_type": "code",
   "execution_count": null,
   "id": "cbeebc4d-4847-40d4-8dd6-f06c16de647b",
   "metadata": {},
   "outputs": [],
   "source": [
    "# histogram plot of age vs frequency\n",
    "df['Age'].plot(kind = \"hist\", edgecolor = \"black\")\n",
    "plt.xlabel(\"Age\")\n",
    "plt.title(\"Age vs Frequency\")\n",
    "plt.show()"
   ]
  },
  {
   "cell_type": "code",
   "execution_count": null,
   "id": "fdfcce0a-6185-40e9-925a-5b82e5ce488c",
   "metadata": {},
   "outputs": [],
   "source": [
    "sns.pairplot(df, hue = \"Diagnosis\")\n",
    "plt.show()"
   ]
  },
  {
   "cell_type": "markdown",
   "id": "4b1f23d3-ea7b-468a-90e4-dc728c050377",
   "metadata": {},
   "source": [
    "#### This dataset contains medical and lifestyle information of patients to predict thyroid cancer risk. \n",
    "#### It includes  details (Age, Gender, Country, Ethnicity), health factors (Family History, Radiation Exposure, Iodine Deficiency, Smoking, Obesity, Diabetes), and  test results (TSH, T3, T4, Nodule Size). \n",
    "#### The Thyroid_Cancer_Risk indicates the patient’s risk level, while Diagnosis shows whether the case is benign or malignant. "
   ]
  },
  {
   "cell_type": "code",
   "execution_count": null,
   "id": "ed1f6476-83de-47f5-8269-421c62c4d881",
   "metadata": {},
   "outputs": [],
   "source": []
  }
 ],
 "metadata": {
  "kernelspec": {
   "display_name": "Python [conda env:base] *",
   "language": "python",
   "name": "conda-base-py"
  },
  "language_info": {
   "codemirror_mode": {
    "name": "ipython",
    "version": 3
   },
   "file_extension": ".py",
   "mimetype": "text/x-python",
   "name": "python",
   "nbconvert_exporter": "python",
   "pygments_lexer": "ipython3",
   "version": "3.13.5"
  }
 },
 "nbformat": 4,
 "nbformat_minor": 5
}
