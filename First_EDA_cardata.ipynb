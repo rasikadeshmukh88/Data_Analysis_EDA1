{
 "cells": [
  {
   "cell_type": "code",
   "execution_count": 2,
   "id": "cd46bf56-93b6-4f23-a3b8-0b9c1bcb9c97",
   "metadata": {},
   "outputs": [],
   "source": [
    "import pandas as pd\n",
    "import numpy as np\n",
    "import matplotlib.pyplot as plt\n",
    "import seaborn as sns"
   ]
  },
  {
   "cell_type": "code",
   "execution_count": 3,
   "id": "c951a0e6-6122-42a5-bc4d-b5eaa40fddf1",
   "metadata": {},
   "outputs": [
    {
     "data": {
      "text/html": [
       "<div>\n",
       "<style scoped>\n",
       "    .dataframe tbody tr th:only-of-type {\n",
       "        vertical-align: middle;\n",
       "    }\n",
       "\n",
       "    .dataframe tbody tr th {\n",
       "        vertical-align: top;\n",
       "    }\n",
       "\n",
       "    .dataframe thead th {\n",
       "        text-align: right;\n",
       "    }\n",
       "</style>\n",
       "<table border=\"1\" class=\"dataframe\">\n",
       "  <thead>\n",
       "    <tr style=\"text-align: right;\">\n",
       "      <th></th>\n",
       "      <th>Car_Name</th>\n",
       "      <th>Year</th>\n",
       "      <th>Selling_Price</th>\n",
       "      <th>Present_Price</th>\n",
       "      <th>Kms_Driven</th>\n",
       "      <th>Fuel_Type</th>\n",
       "      <th>Seller_Type</th>\n",
       "      <th>Transmission</th>\n",
       "      <th>Owner</th>\n",
       "    </tr>\n",
       "  </thead>\n",
       "  <tbody>\n",
       "    <tr>\n",
       "      <th>0</th>\n",
       "      <td>ritz</td>\n",
       "      <td>2014</td>\n",
       "      <td>3.35</td>\n",
       "      <td>5.59</td>\n",
       "      <td>27000</td>\n",
       "      <td>Petrol</td>\n",
       "      <td>Dealer</td>\n",
       "      <td>Manual</td>\n",
       "      <td>0</td>\n",
       "    </tr>\n",
       "    <tr>\n",
       "      <th>1</th>\n",
       "      <td>sx4</td>\n",
       "      <td>2013</td>\n",
       "      <td>4.75</td>\n",
       "      <td>9.54</td>\n",
       "      <td>43000</td>\n",
       "      <td>Diesel</td>\n",
       "      <td>Dealer</td>\n",
       "      <td>Manual</td>\n",
       "      <td>0</td>\n",
       "    </tr>\n",
       "    <tr>\n",
       "      <th>2</th>\n",
       "      <td>ciaz</td>\n",
       "      <td>2017</td>\n",
       "      <td>7.25</td>\n",
       "      <td>9.85</td>\n",
       "      <td>6900</td>\n",
       "      <td>Petrol</td>\n",
       "      <td>Dealer</td>\n",
       "      <td>Manual</td>\n",
       "      <td>0</td>\n",
       "    </tr>\n",
       "    <tr>\n",
       "      <th>3</th>\n",
       "      <td>wagon r</td>\n",
       "      <td>2011</td>\n",
       "      <td>2.85</td>\n",
       "      <td>4.15</td>\n",
       "      <td>5200</td>\n",
       "      <td>Petrol</td>\n",
       "      <td>Dealer</td>\n",
       "      <td>Manual</td>\n",
       "      <td>0</td>\n",
       "    </tr>\n",
       "    <tr>\n",
       "      <th>4</th>\n",
       "      <td>swift</td>\n",
       "      <td>2014</td>\n",
       "      <td>4.60</td>\n",
       "      <td>6.87</td>\n",
       "      <td>42450</td>\n",
       "      <td>Diesel</td>\n",
       "      <td>Dealer</td>\n",
       "      <td>Manual</td>\n",
       "      <td>0</td>\n",
       "    </tr>\n",
       "    <tr>\n",
       "      <th>...</th>\n",
       "      <td>...</td>\n",
       "      <td>...</td>\n",
       "      <td>...</td>\n",
       "      <td>...</td>\n",
       "      <td>...</td>\n",
       "      <td>...</td>\n",
       "      <td>...</td>\n",
       "      <td>...</td>\n",
       "      <td>...</td>\n",
       "    </tr>\n",
       "    <tr>\n",
       "      <th>296</th>\n",
       "      <td>city</td>\n",
       "      <td>2016</td>\n",
       "      <td>9.50</td>\n",
       "      <td>11.60</td>\n",
       "      <td>33988</td>\n",
       "      <td>Diesel</td>\n",
       "      <td>Dealer</td>\n",
       "      <td>Manual</td>\n",
       "      <td>0</td>\n",
       "    </tr>\n",
       "    <tr>\n",
       "      <th>297</th>\n",
       "      <td>brio</td>\n",
       "      <td>2015</td>\n",
       "      <td>4.00</td>\n",
       "      <td>5.90</td>\n",
       "      <td>60000</td>\n",
       "      <td>Petrol</td>\n",
       "      <td>Dealer</td>\n",
       "      <td>Manual</td>\n",
       "      <td>0</td>\n",
       "    </tr>\n",
       "    <tr>\n",
       "      <th>298</th>\n",
       "      <td>city</td>\n",
       "      <td>2009</td>\n",
       "      <td>3.35</td>\n",
       "      <td>11.00</td>\n",
       "      <td>87934</td>\n",
       "      <td>Petrol</td>\n",
       "      <td>Dealer</td>\n",
       "      <td>Manual</td>\n",
       "      <td>0</td>\n",
       "    </tr>\n",
       "    <tr>\n",
       "      <th>299</th>\n",
       "      <td>city</td>\n",
       "      <td>2017</td>\n",
       "      <td>11.50</td>\n",
       "      <td>12.50</td>\n",
       "      <td>9000</td>\n",
       "      <td>Diesel</td>\n",
       "      <td>Dealer</td>\n",
       "      <td>Manual</td>\n",
       "      <td>0</td>\n",
       "    </tr>\n",
       "    <tr>\n",
       "      <th>300</th>\n",
       "      <td>brio</td>\n",
       "      <td>2016</td>\n",
       "      <td>5.30</td>\n",
       "      <td>5.90</td>\n",
       "      <td>5464</td>\n",
       "      <td>Petrol</td>\n",
       "      <td>Dealer</td>\n",
       "      <td>Manual</td>\n",
       "      <td>0</td>\n",
       "    </tr>\n",
       "  </tbody>\n",
       "</table>\n",
       "<p>301 rows × 9 columns</p>\n",
       "</div>"
      ],
      "text/plain": [
       "    Car_Name  Year  Selling_Price  Present_Price  Kms_Driven Fuel_Type  \\\n",
       "0       ritz  2014           3.35           5.59       27000    Petrol   \n",
       "1        sx4  2013           4.75           9.54       43000    Diesel   \n",
       "2       ciaz  2017           7.25           9.85        6900    Petrol   \n",
       "3    wagon r  2011           2.85           4.15        5200    Petrol   \n",
       "4      swift  2014           4.60           6.87       42450    Diesel   \n",
       "..       ...   ...            ...            ...         ...       ...   \n",
       "296     city  2016           9.50          11.60       33988    Diesel   \n",
       "297     brio  2015           4.00           5.90       60000    Petrol   \n",
       "298     city  2009           3.35          11.00       87934    Petrol   \n",
       "299     city  2017          11.50          12.50        9000    Diesel   \n",
       "300     brio  2016           5.30           5.90        5464    Petrol   \n",
       "\n",
       "    Seller_Type Transmission  Owner  \n",
       "0        Dealer       Manual      0  \n",
       "1        Dealer       Manual      0  \n",
       "2        Dealer       Manual      0  \n",
       "3        Dealer       Manual      0  \n",
       "4        Dealer       Manual      0  \n",
       "..          ...          ...    ...  \n",
       "296      Dealer       Manual      0  \n",
       "297      Dealer       Manual      0  \n",
       "298      Dealer       Manual      0  \n",
       "299      Dealer       Manual      0  \n",
       "300      Dealer       Manual      0  \n",
       "\n",
       "[301 rows x 9 columns]"
      ]
     },
     "execution_count": 3,
     "metadata": {},
     "output_type": "execute_result"
    }
   ],
   "source": [
    "df=pd.read_csv(\"car_data.csv\")\n",
    "df"
   ]
  },
  {
   "cell_type": "markdown",
   "id": "1b65a7f2-8097-484a-8035-f5b880b83201",
   "metadata": {},
   "source": [
    "## 1)How many rows and columns are in the dataset?"
   ]
  },
  {
   "cell_type": "code",
   "execution_count": 33,
   "id": "b591c0d3-7326-4082-97a3-ec83082b2714",
   "metadata": {},
   "outputs": [
    {
     "name": "stdout",
     "output_type": "stream",
     "text": [
      "No.of rows and columns in dataset: (301, 9)\n"
     ]
    }
   ],
   "source": [
    "#df.info()\n",
    "print(\"No.of rows and columns in dataset:\",df.shape)"
   ]
  },
  {
   "cell_type": "markdown",
   "id": "e05dcfde-5334-4fe1-8a49-dd5227cffe91",
   "metadata": {},
   "source": [
    "## 2)What are the data types of each column?"
   ]
  },
  {
   "cell_type": "code",
   "execution_count": 35,
   "id": "32738561-ed35-4802-a53b-40ba51b4a8a5",
   "metadata": {},
   "outputs": [
    {
     "name": "stdout",
     "output_type": "stream",
     "text": [
      "Data type of each column:\n",
      " Car_Name          object\n",
      "Year               int64\n",
      "Selling_Price    float64\n",
      "Present_Price    float64\n",
      "Kms_Driven         int64\n",
      "Fuel_Type         object\n",
      "Seller_Type       object\n",
      "Transmission      object\n",
      "Owner              int64\n",
      "dtype: object\n"
     ]
    }
   ],
   "source": [
    "print(\"Data type of each column:\\n\",df.dtypes)"
   ]
  },
  {
   "cell_type": "markdown",
   "id": "2c710b0a-2d47-4147-97aa-0ef5d16fa9e3",
   "metadata": {},
   "source": [
    "## 3)Are there any missing values in the dataset?"
   ]
  },
  {
   "cell_type": "code",
   "execution_count": 36,
   "id": "e9e002ee-0a0c-4029-8c40-ad1817812c09",
   "metadata": {},
   "outputs": [
    {
     "name": "stdout",
     "output_type": "stream",
     "text": [
      "Missing Values in dataset:      Car_Name   Year  Selling_Price  Present_Price  Kms_Driven  Fuel_Type  \\\n",
      "0       False  False          False          False       False      False   \n",
      "1       False  False          False          False       False      False   \n",
      "2       False  False          False          False       False      False   \n",
      "3       False  False          False          False       False      False   \n",
      "4       False  False          False          False       False      False   \n",
      "..        ...    ...            ...            ...         ...        ...   \n",
      "296     False  False          False          False       False      False   \n",
      "297     False  False          False          False       False      False   \n",
      "298     False  False          False          False       False      False   \n",
      "299     False  False          False          False       False      False   \n",
      "300     False  False          False          False       False      False   \n",
      "\n",
      "     Seller_Type  Transmission  Owner  \n",
      "0          False         False  False  \n",
      "1          False         False  False  \n",
      "2          False         False  False  \n",
      "3          False         False  False  \n",
      "4          False         False  False  \n",
      "..           ...           ...    ...  \n",
      "296        False         False  False  \n",
      "297        False         False  False  \n",
      "298        False         False  False  \n",
      "299        False         False  False  \n",
      "300        False         False  False  \n",
      "\n",
      "[301 rows x 9 columns]\n"
     ]
    }
   ],
   "source": [
    "#df.isnull().sum()\n",
    "print(\"Missing Values in dataset:\",df.isnull())"
   ]
  },
  {
   "cell_type": "markdown",
   "id": "ad8aac6c-f3ef-483f-9311-b4b44f58c973",
   "metadata": {},
   "source": [
    "## 4)Are there any duplicate records?"
   ]
  },
  {
   "cell_type": "code",
   "execution_count": 5,
   "id": "389f3b2d-a98f-478e-8e4d-afe2a03f8bf5",
   "metadata": {},
   "outputs": [
    {
     "name": "stdout",
     "output_type": "stream",
     "text": [
      "Duplicated records in the dataset: 2\n"
     ]
    }
   ],
   "source": [
    "#df.duplicated()\n",
    "print(\"Duplicated records in the dataset:\",df.duplicated().sum())\n",
    "#print(df[df.duplicated()])"
   ]
  },
  {
   "cell_type": "markdown",
   "id": "acf4b07a-95a8-4d2d-85f8-91363af6edb0",
   "metadata": {},
   "source": [
    "## 5)What are the unique values in the Fuel_Type, Seller_Type, and Transmission columns?\n"
   ]
  },
  {
   "cell_type": "code",
   "execution_count": 39,
   "id": "11cb8480-ce6c-4bc1-b805-7c7f28c3d9b0",
   "metadata": {},
   "outputs": [
    {
     "name": "stdout",
     "output_type": "stream",
     "text": [
      "Unique values in Fuel_Type ['Petrol' 'Diesel' 'CNG']\n",
      "Unique values in Seller_Type ['Dealer' 'Individual']\n",
      "Unique values in Transmission ['Manual' 'Automatic']\n"
     ]
    }
   ],
   "source": [
    "print(\"Unique values in Fuel_Type\",df['Fuel_Type'].unique())\n",
    "print(\"Unique values in Seller_Type\",df['Seller_Type'].unique())\n",
    "print(\"Unique values in Transmission\",df['Transmission'].unique())"
   ]
  },
  {
   "cell_type": "markdown",
   "id": "12a6df33-36ff-4d71-87d7-5b952e0fd91b",
   "metadata": {},
   "source": [
    "## 6)What is the average, maximum, and minimum Selling_Price?"
   ]
  },
  {
   "cell_type": "code",
   "execution_count": 40,
   "id": "217702d9-16e0-4c58-bde3-c0f07d655b88",
   "metadata": {},
   "outputs": [
    {
     "name": "stdout",
     "output_type": "stream",
     "text": [
      "Average= 4.661295681063123\n",
      "Maximum= 35.0\n",
      "Minimum= 0.1\n"
     ]
    }
   ],
   "source": [
    "#df.describe()\n",
    "print(\"Average=\",df[\"Selling_Price\"].mean())\n",
    "print(\"Maximum=\",df[\"Selling_Price\"].max())\n",
    "print(\"Minimum=\",df[\"Selling_Price\"].min())"
   ]
  },
  {
   "cell_type": "markdown",
   "id": "85657612-832f-4b49-be2d-11ba1e8b76c7",
   "metadata": {},
   "source": [
    "## 7)What is the average Selling_Price by Fuel_Type?"
   ]
  },
  {
   "cell_type": "code",
   "execution_count": 44,
   "id": "341f92c6-39c7-4843-be37-7b4a888a5efa",
   "metadata": {},
   "outputs": [
    {
     "name": "stdout",
     "output_type": "stream",
     "text": [
      "Average Selling Price by Fuel Type:\n",
      " Fuel_Type\n",
      "Diesel    10.278500\n",
      "Petrol     3.264184\n",
      "CNG        3.100000\n",
      "Name: Selling_Price, dtype: float64\n"
     ]
    }
   ],
   "source": [
    "print(\"Average Selling Price by Fuel Type:\\n\",df.groupby('Fuel_Type')['Selling_Price'].mean().sort_values(ascending=False))"
   ]
  },
  {
   "cell_type": "markdown",
   "id": "9fc26f94-65ce-4b73-bc1e-145ca24f0b50",
   "metadata": {},
   "source": [
    "## 8)What is the average Selling_Price by Transmission type?"
   ]
  },
  {
   "cell_type": "code",
   "execution_count": 43,
   "id": "db81cd6a-e33e-43b8-81f2-7f061592a738",
   "metadata": {},
   "outputs": [
    {
     "name": "stdout",
     "output_type": "stream",
     "text": [
      "Average selling price by trannsmission:\n",
      " Transmission\n",
      "Automatic    9.420000\n",
      "Manual       3.931992\n",
      "Name: Selling_Price, dtype: float64\n"
     ]
    }
   ],
   "source": [
    "print(\"Average selling price by trannsmission:\\n\",df.groupby('Transmission')['Selling_Price'].mean())"
   ]
  },
  {
   "cell_type": "markdown",
   "id": "ea956fbc-4a77-4bb2-bc6d-a98bcdcdbb83",
   "metadata": {},
   "source": [
    "## 9)Which car model appears most frequently?"
   ]
  },
  {
   "cell_type": "code",
   "execution_count": 31,
   "id": "c2f1e2d4-b0b2-4a20-9a14-bf04db272b82",
   "metadata": {},
   "outputs": [
    {
     "name": "stdout",
     "output_type": "stream",
     "text": [
      "2. The most common car model is city\n"
     ]
    }
   ],
   "source": [
    "common_carmodel=df['Car_Name'].mode()[0]\n",
    "print(f\"The most common car model is {common_carmodel}\")"
   ]
  },
  {
   "cell_type": "code",
   "execution_count": 46,
   "id": "dfea161b-16c7-48fc-ae74-a48c8949a9ab",
   "metadata": {},
   "outputs": [
    {
     "name": "stdout",
     "output_type": "stream",
     "text": [
      "Most common car model: city\n",
      "Number of occurrences: 26\n"
     ]
    }
   ],
   "source": [
    "common_model = df['Car_Name'].value_counts().idxmax()\n",
    "common_count = df['Car_Name'].value_counts().max()\n",
    "print(\"Most common car model:\",common_model)\n",
    "print(\"Number of occurrences:\",common_count)"
   ]
  },
  {
   "cell_type": "markdown",
   "id": "709f980d-fd22-4d0d-986f-1c13e5e941c6",
   "metadata": {},
   "source": [
    "## 10)What is the average Selling_Price for each car model?"
   ]
  },
  {
   "cell_type": "code",
   "execution_count": 47,
   "id": "03836b51-c599-4cbe-8996-b3b634c6f084",
   "metadata": {},
   "outputs": [
    {
     "name": "stdout",
     "output_type": "stream",
     "text": [
      "The average price of all the cars in the dataset is 4.661295681063123\n"
     ]
    }
   ],
   "source": [
    "average = df[\"Selling_Price\"].mean()\n",
    "print(f\"The average price of all the cars in the dataset is {average}\")"
   ]
  },
  {
   "cell_type": "code",
   "execution_count": 48,
   "id": "b161a276-e16f-4dcc-97d4-aa410868a16c",
   "metadata": {},
   "outputs": [
    {
     "name": "stdout",
     "output_type": "stream",
     "text": [
      "1. Average Selling_Price per Car Model:\n",
      "Car_Name\n",
      "land cruiser           35.000000\n",
      "fortuner               18.685455\n",
      "innova                 12.777778\n",
      "creta                  11.800000\n",
      "elantra                11.600000\n",
      "                         ...    \n",
      "Hero Hunk               0.200000\n",
      "Hero Super Splendor     0.200000\n",
      "Hero  Ignitor Disc      0.200000\n",
      "Bajaj  ct 100           0.180000\n",
      "Bajaj Discover 125      0.175000\n",
      "Name: Selling_Price, Length: 98, dtype: float64\n"
     ]
    }
   ],
   "source": [
    "print(\"Average Selling_Price per Car Model:\")\n",
    "print(df.groupby('Car_Name')['Selling_Price'].mean().sort_values(ascending=False))\n"
   ]
  },
  {
   "cell_type": "markdown",
   "id": "c4c08eb1-0999-419d-a948-ceaa6814eb07",
   "metadata": {},
   "source": [
    "## 11)What is the range of years in the dataset (min and max Year)?"
   ]
  },
  {
   "cell_type": "code",
   "execution_count": 49,
   "id": "1d3f1c52-88d5-453b-8e24-5f838577ff2e",
   "metadata": {},
   "outputs": [
    {
     "name": "stdout",
     "output_type": "stream",
     "text": [
      "Minimum year in dataset: 2003\n",
      "Maximum year in dataset: 2018\n"
     ]
    }
   ],
   "source": [
    "print(\"Minimum year in dataset:\",df['Year'].min())\n",
    "print(\"Maximum year in dataset:\",df['Year'].max())"
   ]
  },
  {
   "cell_type": "markdown",
   "id": "6e114597-c3ca-4a3f-b671-3171f7622e98",
   "metadata": {},
   "source": [
    "## 12)What is the average Selling_Price grouped by Year?"
   ]
  },
  {
   "cell_type": "code",
   "execution_count": 50,
   "id": "f7d7d068-f2a3-4b61-873f-064dbb9a12a8",
   "metadata": {},
   "outputs": [
    {
     "name": "stdout",
     "output_type": "stream",
     "text": [
      "Year\n",
      "2003    1.300000\n",
      "2004    1.500000\n",
      "2005    2.487500\n",
      "2006    1.437500\n",
      "2007    0.160000\n",
      "2008    1.002857\n",
      "2009    2.816667\n",
      "2010    5.262667\n",
      "2011    2.375263\n",
      "2012    3.841304\n",
      "2013    3.540909\n",
      "2014    4.762105\n",
      "2015    5.927049\n",
      "2016    5.213200\n",
      "2017    6.209143\n",
      "2018    9.250000\n",
      "Name: Selling_Price, dtype: float64\n"
     ]
    }
   ],
   "source": [
    "print(df.groupby('Year')['Selling_Price'].mean().sort_index(ascending=True))"
   ]
  },
  {
   "cell_type": "markdown",
   "id": "19f1fdf6-cef4-4c57-9502-7089f7adf2bb",
   "metadata": {},
   "source": [
    "## 13)What is the most common number of owners (from the Owner column)?"
   ]
  },
  {
   "cell_type": "code",
   "execution_count": 52,
   "id": "27ea244f-4d7e-453c-9da4-e8eddf50ca1f",
   "metadata": {},
   "outputs": [
    {
     "name": "stdout",
     "output_type": "stream",
     "text": [
      "Owner\n",
      "0    290\n",
      "1     10\n",
      "3      1\n",
      "Name: count, dtype: int64\n"
     ]
    }
   ],
   "source": [
    "print(df['Owner'].value_counts())\n",
    "#print(df['Owner'].value_counts().idxmax())"
   ]
  },
  {
   "cell_type": "markdown",
   "id": "366ed6a6-fa6d-45a6-8103-a003a680e35f",
   "metadata": {},
   "source": [
    "## 14)What is the average number of kilometers driven (Kms_Driven)?"
   ]
  },
  {
   "cell_type": "code",
   "execution_count": 55,
   "id": "14a3a4ea-7998-481f-a0a8-2c263ffb0ed5",
   "metadata": {},
   "outputs": [
    {
     "name": "stdout",
     "output_type": "stream",
     "text": [
      "average number of kilometers driven: 36947.20598006644\n"
     ]
    }
   ],
   "source": [
    "print(\"average number of kilometers driven:\",df['Kms_Driven'].mean())"
   ]
  },
  {
   "cell_type": "markdown",
   "id": "510d2ad7-b660-4bea-b1fa-4f82fc2f6be3",
   "metadata": {},
   "source": [
    "## 15)Which car has the highest Present_Price?"
   ]
  },
  {
   "cell_type": "code",
   "execution_count": 59,
   "id": "a170588f-9158-4c28-9b27-03b4af8cf05f",
   "metadata": {},
   "outputs": [
    {
     "name": "stdout",
     "output_type": "stream",
     "text": [
      "Highest Present_price: 92.6\n"
     ]
    }
   ],
   "source": [
    "print(\"Highest Present_price:\",df['Present_Price'].max())"
   ]
  },
  {
   "cell_type": "markdown",
   "id": "e7821cb3-ba3b-4f3d-8240-500fe8a0dc70",
   "metadata": {},
   "source": [
    "## it gives all the information about one perticular car which is highest\n"
   ]
  },
  {
   "cell_type": "code",
   "execution_count": 61,
   "id": "3c19e58d-e04e-4fad-b0b5-c790729065ef",
   "metadata": {},
   "outputs": [
    {
     "name": "stdout",
     "output_type": "stream",
     "text": [
      "Car_Name         land cruiser\n",
      "Year                     2010\n",
      "Selling_Price            35.0\n",
      "Present_Price            92.6\n",
      "Kms_Driven              78000\n",
      "Fuel_Type              Diesel\n",
      "Seller_Type            Dealer\n",
      "Transmission           Manual\n",
      "Owner                       0\n",
      "Name: 86, dtype: object\n"
     ]
    }
   ],
   "source": [
    "max_price_idx = df['Present_Price'].idxmax()\n",
    "print(df.loc[max_price_idx])"
   ]
  },
  {
   "cell_type": "markdown",
   "id": "a79f81c1-f05a-4296-89ee-788b8b998822",
   "metadata": {},
   "source": [
    "## 16)What is the correlation between Selling_Price, Present_Price, and Kms_Driven?\n"
   ]
  },
  {
   "cell_type": "code",
   "execution_count": 62,
   "id": "a3be7473-d530-4c2b-a3ec-ef738498f5ae",
   "metadata": {},
   "outputs": [
    {
     "name": "stdout",
     "output_type": "stream",
     "text": [
      "               Selling_Price  Present_Price  Kms_Driven\n",
      "Selling_Price       1.000000       0.878983    0.029187\n",
      "Present_Price       0.878983       1.000000    0.203647\n",
      "Kms_Driven          0.029187       0.203647    1.000000\n"
     ]
    }
   ],
   "source": [
    "print(df[['Selling_Price', 'Present_Price', 'Kms_Driven']].corr())"
   ]
  },
  {
   "cell_type": "markdown",
   "id": "62d9b328-354d-4f28-8cd2-bec3d8263f18",
   "metadata": {},
   "source": [
    "## 17)Which Seller_Type has the highest average Selling_Price?\n"
   ]
  },
  {
   "cell_type": "code",
   "execution_count": 63,
   "id": "ed76b77b-2e90-476c-a3bd-75dfb290b612",
   "metadata": {},
   "outputs": [
    {
     "name": "stdout",
     "output_type": "stream",
     "text": [
      "Seller_Type\n",
      "Dealer        6.721692\n",
      "Individual    0.870943\n",
      "Name: Selling_Price, dtype: float64\n"
     ]
    }
   ],
   "source": [
    "print(df.groupby('Seller_Type')['Selling_Price'].mean().sort_values(ascending=False))"
   ]
  },
  {
   "cell_type": "markdown",
   "id": "36fae88d-a29a-4be0-a664-491d3da58c95",
   "metadata": {},
   "source": [
    "## 18)How many cars are there of each Fuel_Type?\n"
   ]
  },
  {
   "cell_type": "code",
   "execution_count": 64,
   "id": "f861afb8-5c22-4b8e-96e9-678957df3a8a",
   "metadata": {},
   "outputs": [
    {
     "name": "stdout",
     "output_type": "stream",
     "text": [
      "Fuel_Type\n",
      "Petrol    239\n",
      "Diesel     60\n",
      "CNG         2\n",
      "Name: count, dtype: int64\n"
     ]
    }
   ],
   "source": [
    "print(df['Fuel_Type'].value_counts())"
   ]
  },
  {
   "cell_type": "markdown",
   "id": "210d6893-bc7c-485e-8c6a-4113fd8e161a",
   "metadata": {},
   "source": [
    "## 19)How many cars have more than one previous owner?\n"
   ]
  },
  {
   "cell_type": "code",
   "execution_count": 65,
   "id": "b2ae05d4-cbb9-4a52-990a-02db472cd926",
   "metadata": {},
   "outputs": [
    {
     "name": "stdout",
     "output_type": "stream",
     "text": [
      "1\n"
     ]
    }
   ],
   "source": [
    "print(df[df['Owner'] > 1].shape[0])"
   ]
  },
  {
   "cell_type": "markdown",
   "id": "3d7c92db-13b9-4ca8-bc46-961f8d58d2e3",
   "metadata": {},
   "source": [
    "## 20)What are the top 5 most expensive cars in the dataset?\n"
   ]
  },
  {
   "cell_type": "code",
   "execution_count": 74,
   "id": "07ef1734-0103-41bb-a7a9-1d8986e9c064",
   "metadata": {},
   "outputs": [
    {
     "name": "stdout",
     "output_type": "stream",
     "text": [
      "        Car_Name  Year  Selling_Price  Present_Price  Kms_Driven Fuel_Type  \\\n",
      "86  land cruiser  2010           35.0          92.60       78000    Diesel   \n",
      "64      fortuner  2017           33.0          36.23        6000    Diesel   \n",
      "63      fortuner  2015           23.5          35.96       47000    Diesel   \n",
      "51      fortuner  2015           23.0          30.61       40000    Diesel   \n",
      "93      fortuner  2015           23.0          30.61       40000    Diesel   \n",
      "\n",
      "   Seller_Type Transmission  Owner  Price_Difference  \n",
      "86      Dealer       Manual      0             57.60  \n",
      "64      Dealer    Automatic      0              3.23  \n",
      "63      Dealer    Automatic      0             12.46  \n",
      "51      Dealer    Automatic      0              7.61  \n",
      "93      Dealer    Automatic      0              7.61  \n"
     ]
    }
   ],
   "source": [
    "print(df.sort_values(by='Selling_Price', ascending=False).head(5))"
   ]
  },
  {
   "cell_type": "markdown",
   "id": "0854ccb1-4954-4c5f-91fb-24ef1019df44",
   "metadata": {},
   "source": [
    "## 21)What is the average difference between Present_Price and Selling_Price?\n"
   ]
  },
  {
   "cell_type": "code",
   "execution_count": 76,
   "id": "0467c61b-3fef-470b-a1b3-e579b19e2c9f",
   "metadata": {},
   "outputs": [
    {
     "name": "stdout",
     "output_type": "stream",
     "text": [
      "Average difference between Present_Price and Selling_Price: 2.967176079734219\n"
     ]
    }
   ],
   "source": [
    "df['Price_Difference'] = df['Present_Price'] - df['Selling_Price']\n",
    "avg_price_diff = df['Price_Difference'].mean()\n",
    "print(\"Average difference between Present_Price and Selling_Price:\", avg_price_diff)"
   ]
  },
  {
   "cell_type": "markdown",
   "id": "02455aec-ccee-4b76-8973-82b495994692",
   "metadata": {},
   "source": [
    "## 22)How many cars are being sold by individual sellers vs dealers?\n"
   ]
  },
  {
   "cell_type": "code",
   "execution_count": 82,
   "id": "42b5fd87-3c51-4b5f-89bd-aa671e8c02cc",
   "metadata": {},
   "outputs": [
    {
     "name": "stdout",
     "output_type": "stream",
     "text": [
      "Seller_Type\n",
      "Dealer        195\n",
      "Individual    106\n",
      "Name: count, dtype: int64\n"
     ]
    }
   ],
   "source": [
    "print(df['Seller_Type'].value_counts())"
   ]
  },
  {
   "cell_type": "markdown",
   "id": "a3e9f76b-8e13-42ce-aced-7bc3c806df5e",
   "metadata": {},
   "source": [
    "## 23)How many cars were manufactured before 2010?\n"
   ]
  },
  {
   "cell_type": "code",
   "execution_count": 87,
   "id": "f9d13333-d629-43a5-ae82-50cdd56959b3",
   "metadata": {},
   "outputs": [
    {
     "name": "stdout",
     "output_type": "stream",
     "text": [
      "26\n"
     ]
    }
   ],
   "source": [
    "#manufacture = df[df['Year'] < 2010]\n",
    "manufacture=df[df['Year']<2010].shape[0]\n",
    "print(manufacture)"
   ]
  },
  {
   "cell_type": "markdown",
   "id": "bcd3e0c7-67a9-4e3c-addc-0332b35cb49d",
   "metadata": {},
   "source": [
    "## 24)Which year has the highest number of car listings?\n"
   ]
  },
  {
   "cell_type": "code",
   "execution_count": 92,
   "id": "ac77af3c-f151-48d5-9807-d4f6c25cf6e9",
   "metadata": {},
   "outputs": [
    {
     "name": "stdout",
     "output_type": "stream",
     "text": [
      "Year with the highest number of car listings: 2015 (61 listings)\n"
     ]
    }
   ],
   "source": [
    "common_year = df['Year'].value_counts().idxmax()\n",
    "listings_year = df['Year'].value_counts().max()\n",
    "print(f\"Year with the highest number of car listings: {common_year} ({listings_year} listings)\")"
   ]
  },
  {
   "cell_type": "markdown",
   "id": "e89f7547-b454-4486-9f5e-82e41efa9245",
   "metadata": {},
   "source": [
    "## 25)What percentage of cars are using diesel vs petrol vs CNG?\n"
   ]
  },
  {
   "cell_type": "code",
   "execution_count": 95,
   "id": "ea00e589-d221-4c46-86dc-3e177ebc21f6",
   "metadata": {},
   "outputs": [
    {
     "name": "stdout",
     "output_type": "stream",
     "text": [
      "Percentage of cars:\n",
      " Fuel_Type\n",
      "Petrol    79.401993\n",
      "Diesel    19.933555\n",
      "CNG        0.664452\n",
      "Name: proportion, dtype: float64\n"
     ]
    }
   ],
   "source": [
    "fuel_percentages = df['Fuel_Type'].value_counts(normalize=True) * 100\n",
    "print(\"Percentage of cars:\\n\", fuel_percentages)"
   ]
  },
  {
   "cell_type": "markdown",
   "id": "f0c6dc3d-821e-44cc-b578-b0e8f9ed151f",
   "metadata": {},
   "source": [
    "## 26)What is the highest and lowest Kms_Driven for each fuel type?\n"
   ]
  },
  {
   "cell_type": "code",
   "execution_count": 97,
   "id": "7efef2dc-db75-4a54-925c-bdb5e79a7502",
   "metadata": {},
   "outputs": [
    {
     "name": "stdout",
     "output_type": "stream",
     "text": [
      "Highest and lowest Kms_Driven for each Fuel_Type:\n",
      "              min     max\n",
      "Fuel_Type               \n",
      "CNG        35500   49998\n",
      "Diesel      2071  197176\n",
      "Petrol       500  500000\n"
     ]
    }
   ],
   "source": [
    "kms_driven = df.groupby('Fuel_Type')['Kms_Driven'].agg(['min', 'max'])\n",
    "print(\"Highest and lowest Kms_Driven for each Fuel_Type:\\n\", kms_driven)\n"
   ]
  },
  {
   "cell_type": "markdown",
   "id": "49d42362-6fa5-4c12-8dbe-b7ddb551d155",
   "metadata": {},
   "source": [
    "## 27)How many cars were sold with exactly 0 previous owners?\n"
   ]
  },
  {
   "cell_type": "code",
   "execution_count": 99,
   "id": "58cec073-da3a-42ae-85e0-03a23d700dbc",
   "metadata": {},
   "outputs": [
    {
     "name": "stdout",
     "output_type": "stream",
     "text": [
      "290\n"
     ]
    }
   ],
   "source": [
    "zero_owner= df[df['Owner'] == 0].shape[0]\n",
    "print(zero_owner)"
   ]
  },
  {
   "cell_type": "markdown",
   "id": "bce91216-b785-405b-afff-0291eb2e0cbc",
   "metadata": {},
   "source": [
    "## 28)How many unique combinations of Fuel_Type, Seller_Type, and Transmission exist?\n"
   ]
  },
  {
   "cell_type": "code",
   "execution_count": 103,
   "id": "07acd0fe-8c89-4577-9977-be8927d20d7d",
   "metadata": {},
   "outputs": [
    {
     "name": "stdout",
     "output_type": "stream",
     "text": [
      "8\n"
     ]
    }
   ],
   "source": [
    "unique_combinations = df[['Fuel_Type', 'Seller_Type', 'Transmission']].drop_duplicates().shape[0]\n",
    "print(unique_combinations)"
   ]
  },
  {
   "cell_type": "markdown",
   "id": "30ac5c04-38c7-4927-a42d-af8602c92da6",
   "metadata": {},
   "source": [
    "## 29)What is the average Selling_Price of cars that have more than 2 previous owners?\n"
   ]
  },
  {
   "cell_type": "code",
   "execution_count": 105,
   "id": "22c8b3d9-bc80-4656-bdf1-70639d97ab49",
   "metadata": {},
   "outputs": [
    {
     "name": "stdout",
     "output_type": "stream",
     "text": [
      "2.5\n"
     ]
    }
   ],
   "source": [
    "avg_price= df[df['Owner'] > 2]['Selling_Price'].mean()\n",
    "print(avg_price)"
   ]
  },
  {
   "cell_type": "markdown",
   "id": "74f57ccc-249a-4894-8f1b-06c83872b1ab",
   "metadata": {},
   "source": [
    "## 30)Are there any cars where Selling_Price is greater than Present_Price?\n"
   ]
  },
  {
   "cell_type": "code",
   "execution_count": 106,
   "id": "22e6651f-3577-4d27-8c11-acf5a8bbe945",
   "metadata": {},
   "outputs": [
    {
     "name": "stdout",
     "output_type": "stream",
     "text": [
      "0\n"
     ]
    }
   ],
   "source": [
    "overpriced_cars = df[df['Selling_Price'] > df['Present_Price']].shape[0]\n",
    "print(overpriced_cars)"
   ]
  }
 ],
 "metadata": {
  "kernelspec": {
   "display_name": "Python [conda env:base] *",
   "language": "python",
   "name": "conda-base-py"
  },
  "language_info": {
   "codemirror_mode": {
    "name": "ipython",
    "version": 3
   },
   "file_extension": ".py",
   "mimetype": "text/x-python",
   "name": "python",
   "nbconvert_exporter": "python",
   "pygments_lexer": "ipython3",
   "version": "3.13.5"
  }
 },
 "nbformat": 4,
 "nbformat_minor": 5
}
